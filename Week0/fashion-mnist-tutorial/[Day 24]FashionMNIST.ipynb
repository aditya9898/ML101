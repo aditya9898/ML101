{
  "nbformat": 4,
  "nbformat_minor": 0,
  "metadata": {
    "colab": {
      "name": "FashionMNIST.ipynb",
      "version": "0.3.2",
      "provenance": []
    },
    "kernelspec": {
      "name": "python3",
      "display_name": "Python 3"
    },
    "accelerator": "GPU"
  },
  "cells": [
    {
      "metadata": {
        "id": "91upBd85HRlb",
        "colab_type": "text"
      },
      "cell_type": "markdown",
      "source": [
        "# First import dependencies\n",
        "We require:\n",
        "\n",
        "\n",
        "1.   tensorflow  (Google's ML framework)\n",
        "2.   keras           (high level api working on top of tensoflow)\n",
        "3.   numpy         (for fast numerical computation)\n",
        "4.   matplotlib   (for ploting images)\n",
        "\n"
      ]
    },
    {
      "metadata": {
        "id": "kF1t2wV78rVQ",
        "colab_type": "code",
        "colab": {}
      },
      "cell_type": "code",
      "source": [
        "import tensorflow as tf\n",
        "from tensorflow import keras"
      ],
      "execution_count": 0,
      "outputs": []
    },
    {
      "metadata": {
        "id": "27rATSc08z8r",
        "colab_type": "code",
        "colab": {}
      },
      "cell_type": "code",
      "source": [
        "import numpy as np\n",
        "import matplotlib.pyplot as plt"
      ],
      "execution_count": 0,
      "outputs": []
    },
    {
      "metadata": {
        "id": "nFafIlMtIBl_",
        "colab_type": "text"
      },
      "cell_type": "markdown",
      "source": [
        "# Download dataset : Fashion MNIST dataset\n",
        "## Dataset that consists of 70,000 images of 10 different categories of clothing\n",
        "## Each image of size 28 by 28 (black and white)\n",
        "## Dataset is split into train/test images with a 6:1 ratio"
      ]
    },
    {
      "metadata": {
        "id": "VzvvD3_I9IJM",
        "colab_type": "code",
        "colab": {}
      },
      "cell_type": "code",
      "source": [
        "fashion_mnist=keras.datasets.fashion_mnist"
      ],
      "execution_count": 0,
      "outputs": []
    },
    {
      "metadata": {
        "id": "r7SBOynG9qp6",
        "colab_type": "code",
        "colab": {}
      },
      "cell_type": "code",
      "source": [
        "(train_images,train_labels),(test_images,test_labels)=fashion_mnist.load_data()"
      ],
      "execution_count": 0,
      "outputs": []
    },
    {
      "metadata": {
        "id": "Q7BX4A-Y-KmW",
        "colab_type": "code",
        "colab": {
          "base_uri": "https://localhost:8080/",
          "height": 85
        },
        "outputId": "794078de-dab4-4366-b2d5-a09589f50a15"
      },
      "cell_type": "code",
      "source": [
        "print('train images shape : '+str(train_images.shape))\n",
        "print('train labels shape : '+str(train_labels.shape))\n",
        "\n",
        "print('test images shape : '+str(test_images.shape))\n",
        "print('test labels shape : '+str(test_labels.shape))"
      ],
      "execution_count": 56,
      "outputs": [
        {
          "output_type": "stream",
          "text": [
            "train images shape : (60000, 28, 28)\n",
            "train labels shape : (60000,)\n",
            "test images shape : (10000, 28, 28)\n",
            "test labels shape : (10000,)\n"
          ],
          "name": "stdout"
        }
      ]
    },
    {
      "metadata": {
        "id": "0Songo-zJAGt",
        "colab_type": "text"
      },
      "cell_type": "markdown",
      "source": [
        "## Currently the pixel values in these images range from 0-255. We normalize these values and bring it down to the range 0-1"
      ]
    },
    {
      "metadata": {
        "id": "4CHgqQGFAZsz",
        "colab_type": "code",
        "colab": {}
      },
      "cell_type": "code",
      "source": [
        "train_images=train_images/255\n",
        "test_images=test_images/255"
      ],
      "execution_count": 0,
      "outputs": []
    },
    {
      "metadata": {
        "id": "8qWyOuvWC7yL",
        "colab_type": "code",
        "colab": {}
      },
      "cell_type": "code",
      "source": [
        "class_names = ['T-shirt/top', 'Trouser', 'Pullover', 'Dress', 'Coat', \n",
        "               'Sandal', 'Shirt', 'Sneaker', 'Bag', 'Ankle boot']"
      ],
      "execution_count": 0,
      "outputs": []
    },
    {
      "metadata": {
        "id": "gp0kLM7RJepv",
        "colab_type": "text"
      },
      "cell_type": "markdown",
      "source": [
        "## Pick a random image from the train data and plot it along with the class it belongs to"
      ]
    },
    {
      "metadata": {
        "id": "_58XgRRgDAfK",
        "colab_type": "code",
        "colab": {
          "base_uri": "https://localhost:8080/",
          "height": 364
        },
        "outputId": "56446d77-895f-44fd-c505-34a8398e8018"
      },
      "cell_type": "code",
      "source": [
        "n=np.random.randint(0,60000)\n",
        "img=train_images[n,:,:]\n",
        "plt.imshow(img)\n",
        "print('category is : '+class_names[train_labels[n]])"
      ],
      "execution_count": 59,
      "outputs": [
        {
          "output_type": "stream",
          "text": [
            "category is : Coat\n"
          ],
          "name": "stdout"
        },
        {
          "output_type": "display_data",
          "data": {
            "image/png": "[encoded data removed]",
            "text/plain": [
              "<matplotlib.figure.Figure at 0x7fc52e0252b0>"
            ]
          },
          "metadata": {
            "tags": []
          }
        }
      ]
    },
    {
      "metadata": {
        "id": "YKQg-Xo1JsCy",
        "colab_type": "text"
      },
      "cell_type": "markdown",
      "source": [
        "## Creating a model in keras to train the dataset on"
      ]
    },
    {
      "metadata": {
        "id": "R7FNTsH4-cXq",
        "colab_type": "code",
        "colab": {}
      },
      "cell_type": "code",
      "source": [
        "model=keras.Sequential([\n",
        "    keras.layers.Flatten(input_shape=(28,28)),\n",
        "    keras.layers.Dense(128,activation=tf.nn.relu),\n",
        "    keras.layers.Dense(10,activation=tf.nn.softmax)\n",
        "])"
      ],
      "execution_count": 0,
      "outputs": []
    },
    {
      "metadata": {
        "id": "vpc6zyvmJ5yX",
        "colab_type": "text"
      },
      "cell_type": "markdown",
      "source": [
        "# Compiling the model we just created by giving in 3 parameters : \n",
        "\n",
        "\n",
        "## *   Optimizer (how we reduce the loss function)\n",
        "## *   Loss (the measure with which we calculate distance between the actual and predicted values)\n",
        "## * Metrics (what we want our model to improve on)\n",
        "\n"
      ]
    },
    {
      "metadata": {
        "id": "BEOBzDVI_Fjc",
        "colab_type": "code",
        "colab": {}
      },
      "cell_type": "code",
      "source": [
        "model.compile(optimizer=tf.train.AdamOptimizer(),\n",
        "             loss='sparse_categorical_crossentropy',\n",
        "             metrics=['accuracy'])"
      ],
      "execution_count": 0,
      "outputs": []
    },
    {
      "metadata": {
        "id": "eC-EiVkXOxD0",
        "colab_type": "text"
      },
      "cell_type": "markdown",
      "source": [
        "# The actual training process\n",
        "## We give the train images and train labels as inputs to train the model"
      ]
    },
    {
      "metadata": {
        "id": "-IN6-9VHEkJ4",
        "colab_type": "code",
        "colab": {
          "base_uri": "https://localhost:8080/",
          "height": 374
        },
        "outputId": "7fd0ec44-6718-4927-9e6a-5234c145cddf"
      },
      "cell_type": "code",
      "source": [
        "model.fit(train_images,train_labels,epochs=10)"
      ],
      "execution_count": 62,
      "outputs": [
        {
          "output_type": "stream",
          "text": [
            "Epoch 1/10\n",
            "60000/60000 [==============================] - 6s 102us/step - loss: 0.5010 - acc: 0.8234\n",
            "Epoch 2/10\n",
            "60000/60000 [==============================] - 6s 98us/step - loss: 0.3772 - acc: 0.8646\n",
            "Epoch 3/10\n",
            "60000/60000 [==============================] - 6s 97us/step - loss: 0.3385 - acc: 0.8764\n",
            "Epoch 4/10\n",
            "60000/60000 [==============================] - 6s 97us/step - loss: 0.3154 - acc: 0.8847\n",
            "Epoch 5/10\n",
            "60000/60000 [==============================] - 6s 96us/step - loss: 0.2970 - acc: 0.8913\n",
            "Epoch 6/10\n",
            "60000/60000 [==============================] - 6s 97us/step - loss: 0.2829 - acc: 0.8944\n",
            "Epoch 7/10\n",
            "60000/60000 [==============================] - 6s 97us/step - loss: 0.2704 - acc: 0.8984\n",
            "Epoch 8/10\n",
            "60000/60000 [==============================] - 6s 96us/step - loss: 0.2585 - acc: 0.9037\n",
            "Epoch 9/10\n",
            "60000/60000 [==============================] - 6s 97us/step - loss: 0.2496 - acc: 0.9070\n",
            "Epoch 10/10\n",
            "60000/60000 [==============================] - 6s 97us/step - loss: 0.2416 - acc: 0.9110\n"
          ],
          "name": "stdout"
        },
        {
          "output_type": "execute_result",
          "data": {
            "text/plain": [
              "<tensorflow.python.keras.callbacks.History at 0x7fc50d1ee550>"
            ]
          },
          "metadata": {
            "tags": []
          },
          "execution_count": 62
        }
      ]
    },
    {
      "metadata": {
        "id": "5rjH0YhePBKh",
        "colab_type": "text"
      },
      "cell_type": "markdown",
      "source": [
        "# Evaluating our model on previously unseen test data"
      ]
    },
    {
      "metadata": {
        "id": "dfIllgoVEurB",
        "colab_type": "code",
        "colab": {
          "base_uri": "https://localhost:8080/",
          "height": 51
        },
        "outputId": "a6b586d0-2d94-49cb-9f48-be38e6ec548d"
      },
      "cell_type": "code",
      "source": [
        "model.evaluate(test_images,test_labels)"
      ],
      "execution_count": 63,
      "outputs": [
        {
          "output_type": "stream",
          "text": [
            "10000/10000 [==============================] - 1s 72us/step\n"
          ],
          "name": "stdout"
        },
        {
          "output_type": "execute_result",
          "data": {
            "text/plain": [
              "[0.32642196986675265, 0.8841]"
            ]
          },
          "metadata": {
            "tags": []
          },
          "execution_count": 63
        }
      ]
    },
    {
      "metadata": {
        "id": "fHOLnZ5EPKQX",
        "colab_type": "text"
      },
      "cell_type": "markdown",
      "source": [
        "# Selecting a random image from the test dataset and predicting the class that it belongs to"
      ]
    },
    {
      "metadata": {
        "id": "BKhgwRSKFU8A",
        "colab_type": "code",
        "colab": {
          "base_uri": "https://localhost:8080/",
          "height": 364
        },
        "outputId": "beb6c2b7-100d-49d4-e754-7e0f9ca2c2b7"
      },
      "cell_type": "code",
      "source": [
        "n=np.random.randint(0,10000)\n",
        "test_img=test_images[n,:,:].reshape(1,28,28)\n",
        "predicted_class_number=np.argmax(model.predict(test_img))\n",
        "predicted_class=class_names[predicted_class_number]\n",
        "plt.imshow(test_img[0,:,:])\n",
        "print('predicted class is : '+predicted_class)"
      ],
      "execution_count": 64,
      "outputs": [
        {
          "output_type": "stream",
          "text": [
            "predicted class is : Dress\n"
          ],
          "name": "stdout"
        },
        {
          "output_type": "display_data",
          "data": {
            "image/png": "[encoded data removed]",
            "text/plain": [
              "<matplotlib.figure.Figure at 0x7fc50d340fd0>"
            ]
          },
          "metadata": {
            "tags": []
          }
        }
      ]
    },
    {
      "metadata": {
        "id": "FmoM-vKcFpP9",
        "colab_type": "code",
        "colab": {}
      },
      "cell_type": "code",
      "source": [
        ""
      ],
      "execution_count": 0,
      "outputs": []
    }
  ]
}